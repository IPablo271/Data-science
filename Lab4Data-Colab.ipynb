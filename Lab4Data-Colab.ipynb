{
  "nbformat": 4,
  "nbformat_minor": 0,
  "metadata": {
    "colab": {
      "provenance": [],
      "gpuType": "T4",
      "authorship_tag": "ABX9TyPRT0QiP1Xw0Ol/42/qyt0E",
      "include_colab_link": true
    },
    "kernelspec": {
      "name": "python3",
      "display_name": "Python 3"
    },
    "language_info": {
      "name": "python"
    },
    "accelerator": "GPU"
  },
  "cells": [
    {
      "cell_type": "markdown",
      "metadata": {
        "id": "view-in-github",
        "colab_type": "text"
      },
      "source": [
        "<a href=\"https://colab.research.google.com/github/IPablo271/Data-science/blob/main/Lab4Data-Colab.ipynb\" target=\"_parent\"><img src=\"https://colab.research.google.com/assets/colab-badge.svg\" alt=\"Open In Colab\"/></a>"
      ]
    },
    {
      "cell_type": "markdown",
      "source": [
        "### Laboratorio 4 Data Science"
      ],
      "metadata": {
        "id": "hHrWNtcGiWMw"
      }
    },
    {
      "cell_type": "code",
      "source": [
        "import tensorflow as tf\n",
        "from tensorflow.keras.preprocessing import sequence\n",
        "from tensorflow.keras.models import Sequential\n",
        "from tensorflow.keras.layers import Dense, Embedding\n",
        "from tensorflow.keras.layers import LSTM\n",
        "from tensorflow.keras.datasets import imdb"
      ],
      "metadata": {
        "id": "J4O9MqkEAkos"
      },
      "execution_count": 1,
      "outputs": []
    },
    {
      "cell_type": "code",
      "source": [
        "print('Cargando los datos...')\n",
        "(X_train, y_train), (X_test, y_test) = imdb.load_data(num_words=50000)"
      ],
      "metadata": {
        "colab": {
          "base_uri": "https://localhost:8080/"
        },
        "id": "wZEGNNjiAmv6",
        "outputId": "9dd9d1c7-440a-4fec-9144-f2ee725ff17d"
      },
      "execution_count": 2,
      "outputs": [
        {
          "output_type": "stream",
          "name": "stdout",
          "text": [
            "Cargando los datos...\n",
            "Downloading data from https://storage.googleapis.com/tensorflow/tf-keras-datasets/imdb.npz\n",
            "17464789/17464789 [==============================] - 0s 0us/step\n"
          ]
        }
      ]
    },
    {
      "cell_type": "code",
      "source": [
        "len(X_train)\n"
      ],
      "metadata": {
        "colab": {
          "base_uri": "https://localhost:8080/"
        },
        "id": "PjdNQi3SAq1V",
        "outputId": "b4d7b33f-b4a4-4d02-e337-b1df32792431"
      },
      "execution_count": 3,
      "outputs": [
        {
          "output_type": "execute_result",
          "data": {
            "text/plain": [
              "25000"
            ]
          },
          "metadata": {},
          "execution_count": 3
        }
      ]
    },
    {
      "cell_type": "code",
      "source": [
        "len(X_test)"
      ],
      "metadata": {
        "colab": {
          "base_uri": "https://localhost:8080/"
        },
        "id": "Ny3fVgqYAtZe",
        "outputId": "f5fcebd6-8637-4369-98dd-0e8eafafe3ca"
      },
      "execution_count": 4,
      "outputs": [
        {
          "output_type": "execute_result",
          "data": {
            "text/plain": [
              "25000"
            ]
          },
          "metadata": {},
          "execution_count": 4
        }
      ]
    },
    {
      "cell_type": "code",
      "source": [
        "X_train[0]"
      ],
      "metadata": {
        "colab": {
          "base_uri": "https://localhost:8080/"
        },
        "id": "a3Q_vbHgAwOB",
        "outputId": "58cd85d3-5008-4ae8-cf3b-ee51f0417e5f"
      },
      "execution_count": 5,
      "outputs": [
        {
          "output_type": "execute_result",
          "data": {
            "text/plain": [
              "[1,\n",
              " 14,\n",
              " 22,\n",
              " 16,\n",
              " 43,\n",
              " 530,\n",
              " 973,\n",
              " 1622,\n",
              " 1385,\n",
              " 65,\n",
              " 458,\n",
              " 4468,\n",
              " 66,\n",
              " 3941,\n",
              " 4,\n",
              " 173,\n",
              " 36,\n",
              " 256,\n",
              " 5,\n",
              " 25,\n",
              " 100,\n",
              " 43,\n",
              " 838,\n",
              " 112,\n",
              " 50,\n",
              " 670,\n",
              " 22665,\n",
              " 9,\n",
              " 35,\n",
              " 480,\n",
              " 284,\n",
              " 5,\n",
              " 150,\n",
              " 4,\n",
              " 172,\n",
              " 112,\n",
              " 167,\n",
              " 21631,\n",
              " 336,\n",
              " 385,\n",
              " 39,\n",
              " 4,\n",
              " 172,\n",
              " 4536,\n",
              " 1111,\n",
              " 17,\n",
              " 546,\n",
              " 38,\n",
              " 13,\n",
              " 447,\n",
              " 4,\n",
              " 192,\n",
              " 50,\n",
              " 16,\n",
              " 6,\n",
              " 147,\n",
              " 2025,\n",
              " 19,\n",
              " 14,\n",
              " 22,\n",
              " 4,\n",
              " 1920,\n",
              " 4613,\n",
              " 469,\n",
              " 4,\n",
              " 22,\n",
              " 71,\n",
              " 87,\n",
              " 12,\n",
              " 16,\n",
              " 43,\n",
              " 530,\n",
              " 38,\n",
              " 76,\n",
              " 15,\n",
              " 13,\n",
              " 1247,\n",
              " 4,\n",
              " 22,\n",
              " 17,\n",
              " 515,\n",
              " 17,\n",
              " 12,\n",
              " 16,\n",
              " 626,\n",
              " 18,\n",
              " 19193,\n",
              " 5,\n",
              " 62,\n",
              " 386,\n",
              " 12,\n",
              " 8,\n",
              " 316,\n",
              " 8,\n",
              " 106,\n",
              " 5,\n",
              " 4,\n",
              " 2223,\n",
              " 5244,\n",
              " 16,\n",
              " 480,\n",
              " 66,\n",
              " 3785,\n",
              " 33,\n",
              " 4,\n",
              " 130,\n",
              " 12,\n",
              " 16,\n",
              " 38,\n",
              " 619,\n",
              " 5,\n",
              " 25,\n",
              " 124,\n",
              " 51,\n",
              " 36,\n",
              " 135,\n",
              " 48,\n",
              " 25,\n",
              " 1415,\n",
              " 33,\n",
              " 6,\n",
              " 22,\n",
              " 12,\n",
              " 215,\n",
              " 28,\n",
              " 77,\n",
              " 52,\n",
              " 5,\n",
              " 14,\n",
              " 407,\n",
              " 16,\n",
              " 82,\n",
              " 10311,\n",
              " 8,\n",
              " 4,\n",
              " 107,\n",
              " 117,\n",
              " 5952,\n",
              " 15,\n",
              " 256,\n",
              " 4,\n",
              " 31050,\n",
              " 7,\n",
              " 3766,\n",
              " 5,\n",
              " 723,\n",
              " 36,\n",
              " 71,\n",
              " 43,\n",
              " 530,\n",
              " 476,\n",
              " 26,\n",
              " 400,\n",
              " 317,\n",
              " 46,\n",
              " 7,\n",
              " 4,\n",
              " 12118,\n",
              " 1029,\n",
              " 13,\n",
              " 104,\n",
              " 88,\n",
              " 4,\n",
              " 381,\n",
              " 15,\n",
              " 297,\n",
              " 98,\n",
              " 32,\n",
              " 2071,\n",
              " 56,\n",
              " 26,\n",
              " 141,\n",
              " 6,\n",
              " 194,\n",
              " 7486,\n",
              " 18,\n",
              " 4,\n",
              " 226,\n",
              " 22,\n",
              " 21,\n",
              " 134,\n",
              " 476,\n",
              " 26,\n",
              " 480,\n",
              " 5,\n",
              " 144,\n",
              " 30,\n",
              " 5535,\n",
              " 18,\n",
              " 51,\n",
              " 36,\n",
              " 28,\n",
              " 224,\n",
              " 92,\n",
              " 25,\n",
              " 104,\n",
              " 4,\n",
              " 226,\n",
              " 65,\n",
              " 16,\n",
              " 38,\n",
              " 1334,\n",
              " 88,\n",
              " 12,\n",
              " 16,\n",
              " 283,\n",
              " 5,\n",
              " 16,\n",
              " 4472,\n",
              " 113,\n",
              " 103,\n",
              " 32,\n",
              " 15,\n",
              " 16,\n",
              " 5345,\n",
              " 19,\n",
              " 178,\n",
              " 32]"
            ]
          },
          "metadata": {},
          "execution_count": 5
        }
      ]
    },
    {
      "cell_type": "code",
      "source": [
        "y_train[0]"
      ],
      "metadata": {
        "colab": {
          "base_uri": "https://localhost:8080/"
        },
        "id": "1pEr2UKoAxY5",
        "outputId": "151b8dda-9edf-4ff4-92bb-5f26574d3a8d"
      },
      "execution_count": 6,
      "outputs": [
        {
          "output_type": "execute_result",
          "data": {
            "text/plain": [
              "1"
            ]
          },
          "metadata": {},
          "execution_count": 6
        }
      ]
    },
    {
      "cell_type": "code",
      "source": [
        "X_train = sequence.pad_sequences(X_train, maxlen = 120)\n",
        "X_test = sequence.pad_sequences(X_test, maxlen = 120)"
      ],
      "metadata": {
        "id": "MLPRscEcA1fm"
      },
      "execution_count": 7,
      "outputs": []
    },
    {
      "cell_type": "code",
      "source": [
        "modelo = Sequential()\n",
        "modelo.add(Embedding(50000, 128))\n",
        "modelo.add(LSTM(128, dropout=0.2, recurrent_dropout=0.2))\n",
        "modelo.add(Dense(1, activation='sigmoid'))"
      ],
      "metadata": {
        "colab": {
          "base_uri": "https://localhost:8080/"
        },
        "id": "tSblAu-yA3t0",
        "outputId": "feb8c231-81a5-4e47-f5d8-992d1f4b7157"
      },
      "execution_count": 8,
      "outputs": [
        {
          "output_type": "stream",
          "name": "stderr",
          "text": [
            "WARNING:tensorflow:Layer lstm will not use cuDNN kernels since it doesn't meet the criteria. It will use a generic GPU kernel as fallback when running on GPU.\n"
          ]
        }
      ]
    },
    {
      "cell_type": "code",
      "source": [
        "modelo.compile(loss='binary_crossentropy',\n",
        "              optimizer='adam',\n",
        "              metrics=['accuracy'])"
      ],
      "metadata": {
        "id": "aNJbHnk2A730"
      },
      "execution_count": 9,
      "outputs": []
    },
    {
      "cell_type": "code",
      "source": [
        "modelo.fit(X_train, y_train,\n",
        "          batch_size = 32,\n",
        "          epochs = 15,\n",
        "          verbose = 2,\n",
        "          validation_data = (X_test, y_test))"
      ],
      "metadata": {
        "colab": {
          "base_uri": "https://localhost:8080/"
        },
        "id": "ndSIXRzfA-8f",
        "outputId": "63f4f79b-b666-4427-e134-2133d6713f70"
      },
      "execution_count": 10,
      "outputs": [
        {
          "output_type": "stream",
          "name": "stdout",
          "text": [
            "Epoch 1/15\n",
            "782/782 - 469s - loss: 0.4172 - accuracy: 0.8084 - val_loss: 0.3900 - val_accuracy: 0.8478 - 469s/epoch - 600ms/step\n",
            "Epoch 2/15\n",
            "782/782 - 431s - loss: 0.2144 - accuracy: 0.9163 - val_loss: 0.3859 - val_accuracy: 0.8484 - 431s/epoch - 552ms/step\n",
            "Epoch 3/15\n",
            "782/782 - 418s - loss: 0.1220 - accuracy: 0.9566 - val_loss: 0.4620 - val_accuracy: 0.8468 - 418s/epoch - 535ms/step\n",
            "Epoch 4/15\n",
            "782/782 - 426s - loss: 0.0728 - accuracy: 0.9741 - val_loss: 0.6231 - val_accuracy: 0.8347 - 426s/epoch - 545ms/step\n",
            "Epoch 5/15\n",
            "782/782 - 452s - loss: 0.0514 - accuracy: 0.9824 - val_loss: 0.5653 - val_accuracy: 0.8415 - 452s/epoch - 579ms/step\n",
            "Epoch 6/15\n",
            "782/782 - 428s - loss: 0.0356 - accuracy: 0.9888 - val_loss: 0.7736 - val_accuracy: 0.8400 - 428s/epoch - 548ms/step\n",
            "Epoch 7/15\n",
            "782/782 - 427s - loss: 0.0269 - accuracy: 0.9915 - val_loss: 0.6807 - val_accuracy: 0.8364 - 427s/epoch - 546ms/step\n",
            "Epoch 8/15\n",
            "782/782 - 414s - loss: 0.0245 - accuracy: 0.9928 - val_loss: 0.7649 - val_accuracy: 0.8384 - 414s/epoch - 529ms/step\n",
            "Epoch 9/15\n",
            "782/782 - 424s - loss: 0.0166 - accuracy: 0.9946 - val_loss: 0.8626 - val_accuracy: 0.8314 - 424s/epoch - 543ms/step\n",
            "Epoch 10/15\n",
            "782/782 - 422s - loss: 0.0146 - accuracy: 0.9952 - val_loss: 0.8459 - val_accuracy: 0.8334 - 422s/epoch - 540ms/step\n",
            "Epoch 11/15\n",
            "782/782 - 419s - loss: 0.0131 - accuracy: 0.9959 - val_loss: 1.0939 - val_accuracy: 0.8137 - 419s/epoch - 536ms/step\n",
            "Epoch 12/15\n",
            "782/782 - 423s - loss: 0.0087 - accuracy: 0.9973 - val_loss: 0.9479 - val_accuracy: 0.8349 - 423s/epoch - 541ms/step\n",
            "Epoch 13/15\n",
            "782/782 - 425s - loss: 0.0204 - accuracy: 0.9937 - val_loss: 0.8783 - val_accuracy: 0.8366 - 425s/epoch - 544ms/step\n",
            "Epoch 14/15\n",
            "782/782 - 401s - loss: 0.0109 - accuracy: 0.9968 - val_loss: 0.8834 - val_accuracy: 0.8366 - 401s/epoch - 512ms/step\n",
            "Epoch 15/15\n",
            "782/782 - 418s - loss: 0.0046 - accuracy: 0.9984 - val_loss: 1.1121 - val_accuracy: 0.8315 - 418s/epoch - 534ms/step\n"
          ]
        },
        {
          "output_type": "execute_result",
          "data": {
            "text/plain": [
              "<keras.src.callbacks.History at 0x7d3a4aee3940>"
            ]
          },
          "metadata": {},
          "execution_count": 10
        }
      ]
    },
    {
      "cell_type": "code",
      "source": [
        "modelo.save(\"Anal_Sentimiento_120.h5\")"
      ],
      "metadata": {
        "colab": {
          "base_uri": "https://localhost:8080/"
        },
        "id": "oV9CjJq-LMyC",
        "outputId": "a80d20e1-7f71-4b61-d4f6-fae38bc315c8"
      },
      "execution_count": 11,
      "outputs": [
        {
          "output_type": "stream",
          "name": "stderr",
          "text": [
            "/usr/local/lib/python3.10/dist-packages/keras/src/engine/training.py:3000: UserWarning: You are saving your model as an HDF5 file via `model.save()`. This file format is considered legacy. We recommend using instead the native Keras format, e.g. `model.save('my_model.keras')`.\n",
            "  saving_api.save_model(\n"
          ]
        }
      ]
    },
    {
      "cell_type": "markdown",
      "source": [
        "# Nueva sección"
      ],
      "metadata": {
        "id": "B8ytXrXeR_D1"
      }
    },
    {
      "cell_type": "code",
      "source": [
        "perdida, exactitud = modelo.evaluate(X_test, y_test,\n",
        "                            batch_size = 32,\n",
        "                            verbose = 2)\n",
        "print('Pérdida de la Prueba:', perdida)\n",
        "print('Exactitud de la Prueba (Test accuracy):', exactitud)"
      ],
      "metadata": {
        "colab": {
          "base_uri": "https://localhost:8080/"
        },
        "id": "McSRSy27I_y4",
        "outputId": "e4bb5877-546c-412e-fb7f-0f72337366c3"
      },
      "execution_count": 12,
      "outputs": [
        {
          "output_type": "stream",
          "name": "stdout",
          "text": [
            "782/782 - 24s - loss: 1.1121 - accuracy: 0.8315 - 24s/epoch - 31ms/step\n",
            "Pérdida de la Prueba: 1.112100601196289\n",
            "Exactitud de la Prueba (Test accuracy): 0.8315200209617615\n"
          ]
        }
      ]
    }
  ]
}