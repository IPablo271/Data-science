{
 "cells": [
  {
   "cell_type": "markdown",
   "metadata": {},
   "source": [
    "# Red Neuronal CNN \n",
    "Universidad del Valle de Guatemala\n",
    "Pablo Gonzalez 20362\n",
    "Javier Mombiela 20067"
   ]
  },
  {
   "cell_type": "code",
   "execution_count": 84,
   "metadata": {},
   "outputs": [],
   "source": [
    "import pandas as pd\n",
    "import numpy as np\n",
    "import matplotlib.pyplot as plt\n",
    "import seaborn as sns\n",
    "import pickle as pkl\n",
    "import os\n",
    "from matplotlib.image import imread\n",
    "from tensorflow.keras.utils import to_categorical\n",
    "from sklearn.metrics import classification_report, confusion_matrix"
   ]
  },
  {
   "cell_type": "markdown",
   "metadata": {},
   "source": [
    "### Carga de datos"
   ]
  },
  {
   "cell_type": "code",
   "execution_count": 59,
   "metadata": {},
   "outputs": [
    {
     "data": {
      "text/plain": [
       "['entrenamiento.p', 'prueba.p', 'validacion.p']"
      ]
     },
     "execution_count": 59,
     "metadata": {},
     "output_type": "execute_result"
    }
   ],
   "source": [
    "directorio = './data'\n",
    "os.listdir(directorio)"
   ]
  },
  {
   "cell_type": "markdown",
   "metadata": {},
   "source": [
    "Con respecto a la división del conjunto de entrenamiento, prueba y validación se puede mencionar que estos ya se proporcionaron divididos por lo que solo se cargarán en 3 estructuras de datos diferentes"
   ]
  },
  {
   "cell_type": "code",
   "execution_count": 60,
   "metadata": {},
   "outputs": [],
   "source": [
    "ruta_entrenamiento = directorio + '/entrenamiento.p'\n",
    "ruta_test = directorio + '/prueba.p'\n",
    "ruta_validacion = directorio + '/validacion.p'"
   ]
  },
  {
   "cell_type": "code",
   "execution_count": 61,
   "metadata": {},
   "outputs": [],
   "source": [
    "test_data = pd.read_pickle(ruta_test)\n",
    "validation_data = pd.read_pickle(ruta_validacion)\n",
    "train_data = pd.read_pickle(ruta_entrenamiento)"
   ]
  },
  {
   "cell_type": "markdown",
   "metadata": {},
   "source": [
    "Print para visualizar como viene la data estructurada"
   ]
  },
  {
   "cell_type": "code",
   "execution_count": 62,
   "metadata": {},
   "outputs": [
    {
     "name": "stdout",
     "output_type": "stream",
     "text": [
      "{'sizes': array([[53, 54],\n",
      "       [42, 45],\n",
      "       [48, 52],\n",
      "       ...,\n",
      "       [29, 29],\n",
      "       [48, 49],\n",
      "       [32, 31]], dtype=uint8), 'coords': array([[ 6,  5, 48, 49],\n",
      "       [ 5,  5, 36, 40],\n",
      "       [ 6,  6, 43, 47],\n",
      "       ...,\n",
      "       [ 6,  6, 24, 24],\n",
      "       [ 5,  6, 43, 44],\n",
      "       [ 6,  5, 27, 26]], dtype=uint8), 'features': array([[[[116, 139, 174],\n",
      "         [116, 137, 171],\n",
      "         [118, 138, 172],\n",
      "         ...,\n",
      "         [ 98, 114, 143],\n",
      "         [ 97, 121, 147],\n",
      "         [ 85, 105, 130]],\n",
      "\n",
      "        [[115, 142, 176],\n",
      "         [115, 140, 174],\n",
      "         [117, 141, 175],\n",
      "         ...,\n",
      "         [119, 143, 176],\n",
      "         [120, 141, 173],\n",
      "         [120, 139, 171]],\n",
      "\n",
      "        [[117, 141, 174],\n",
      "         [117, 142, 175],\n",
      "         [114, 140, 172],\n",
      "         ...,\n",
      "         [120, 144, 179],\n",
      "         [122, 144, 179],\n",
      "         [120, 143, 177]],\n",
      "\n",
      "        ...,\n",
      "\n",
      "        [[117, 137, 167],\n",
      "         [115, 134, 164],\n",
      "         [117, 135, 164],\n",
      "         ...,\n",
      "         [115, 137, 169],\n",
      "         [116, 136, 168],\n",
      "         [118, 139, 172]],\n",
      "\n",
      "        [[116, 136, 166],\n",
      "         [114, 134, 168],\n",
      "         [113, 131, 166],\n",
      "         ...,\n",
      "         [113, 135, 167],\n",
      "         [117, 136, 165],\n",
      "         [115, 139, 167]],\n",
      "\n",
      "        [[112, 135, 167],\n",
      "         [110, 134, 165],\n",
      "         [119, 135, 165],\n",
      "         ...,\n",
      "         [115, 138, 167],\n",
      "         [117, 138, 167],\n",
      "         [114, 140, 170]]],\n",
      "\n",
      "\n",
      "       [[[ 59,  70,  61],\n",
      "         [ 87,  80,  63],\n",
      "         [ 92,  81,  63],\n",
      "         ...,\n",
      "         [ 77,  64,  67],\n",
      "         [ 71,  65,  67],\n",
      "         [ 74,  69,  68]],\n",
      "\n",
      "        [[ 59,  68,  58],\n",
      "         [ 94,  83,  65],\n",
      "         [ 95,  80,  62],\n",
      "         ...,\n",
      "         [ 77,  64,  66],\n",
      "         [ 92,  69,  70],\n",
      "         [ 85,  68,  68]],\n",
      "\n",
      "        [[ 56,  68,  58],\n",
      "         [ 90,  84,  67],\n",
      "         [ 95,  82,  64],\n",
      "         ...,\n",
      "         [ 72,  65,  66],\n",
      "         [ 80,  67,  69],\n",
      "         [ 79,  69,  70]],\n",
      "\n",
      "        ...,\n",
      "\n",
      "        [[ 48,  47,  43],\n",
      "         [ 79,  68,  57],\n",
      "         [ 80,  66,  56],\n",
      "         ...,\n",
      "         [ 68,  63,  63],\n",
      "         [ 78,  65,  65],\n",
      "         [ 76,  66,  68]],\n",
      "\n",
      "        [[ 49,  46,  45],\n",
      "         [ 78,  66,  61],\n",
      "         [ 78,  65,  58],\n",
      "         ...,\n",
      "         [ 60,  60,  61],\n",
      "         [ 68,  65,  65],\n",
      "         [ 73,  67,  67]],\n",
      "\n",
      "        [[ 51,  45,  45],\n",
      "         [ 78,  66,  61],\n",
      "         [ 79,  66,  58],\n",
      "         ...,\n",
      "         [ 62,  59,  62],\n",
      "         [ 73,  67,  70],\n",
      "         [ 75,  70,  70]]],\n",
      "\n",
      "\n",
      "       [[[ 52,  40,  38],\n",
      "         [ 51,  39,  37],\n",
      "         [ 50,  38,  37],\n",
      "         ...,\n",
      "         [ 53,  44,  46],\n",
      "         [ 54,  45,  48],\n",
      "         [ 55,  45,  48]],\n",
      "\n",
      "        [[ 59,  45,  42],\n",
      "         [ 59,  44,  41],\n",
      "         [ 56,  44,  40],\n",
      "         ...,\n",
      "         [ 52,  41,  42],\n",
      "         [ 54,  44,  45],\n",
      "         [ 55,  46,  45]],\n",
      "\n",
      "        [[ 67,  49,  44],\n",
      "         [ 65,  50,  45],\n",
      "         [ 65,  49,  45],\n",
      "         ...,\n",
      "         [ 57,  42,  39],\n",
      "         [ 55,  42,  40],\n",
      "         [ 56,  43,  40]],\n",
      "\n",
      "        ...,\n",
      "\n",
      "        [[ 28,  24,  26],\n",
      "         [ 29,  25,  27],\n",
      "         [ 29,  27,  30],\n",
      "         ...,\n",
      "         [ 27,  24,  24],\n",
      "         [ 28,  25,  24],\n",
      "         [ 29,  27,  27]],\n",
      "\n",
      "        [[ 31,  28,  29],\n",
      "         [ 37,  32,  34],\n",
      "         [ 41,  35,  37],\n",
      "         ...,\n",
      "         [ 34,  31,  28],\n",
      "         [ 42,  40,  38],\n",
      "         [ 47,  45,  45]],\n",
      "\n",
      "        [[ 32,  29,  30],\n",
      "         [ 33,  28,  28],\n",
      "         [ 44,  34,  32],\n",
      "         ...,\n",
      "         [ 41,  40,  38],\n",
      "         [ 44,  43,  43],\n",
      "         [ 47,  46,  44]]],\n",
      "\n",
      "\n",
      "       ...,\n",
      "\n",
      "\n",
      "       [[[ 24,  27,  34],\n",
      "         [ 23,  25,  32],\n",
      "         [ 24,  25,  32],\n",
      "         ...,\n",
      "         [ 26,  27,  33],\n",
      "         [ 26,  27,  34],\n",
      "         [ 26,  27,  34]],\n",
      "\n",
      "        [[ 25,  26,  33],\n",
      "         [ 25,  26,  34],\n",
      "         [ 25,  26,  33],\n",
      "         ...,\n",
      "         [ 26,  27,  34],\n",
      "         [ 27,  27,  35],\n",
      "         [ 28,  28,  36]],\n",
      "\n",
      "        [[ 26,  26,  32],\n",
      "         [ 25,  25,  32],\n",
      "         [ 25,  25,  31],\n",
      "         ...,\n",
      "         [ 26,  27,  33],\n",
      "         [ 27,  27,  33],\n",
      "         [ 27,  26,  34]],\n",
      "\n",
      "        ...,\n",
      "\n",
      "        [[ 16,  17,  21],\n",
      "         [ 15,  16,  21],\n",
      "         [ 14,  16,  21],\n",
      "         ...,\n",
      "         [ 19,  21,  30],\n",
      "         [ 20,  22,  32],\n",
      "         [ 19,  21,  30]],\n",
      "\n",
      "        [[ 16,  17,  22],\n",
      "         [ 15,  16,  21],\n",
      "         [ 14,  16,  21],\n",
      "         ...,\n",
      "         [ 19,  21,  30],\n",
      "         [ 20,  22,  32],\n",
      "         [ 19,  22,  32]],\n",
      "\n",
      "        [[ 15,  16,  21],\n",
      "         [ 15,  16,  21],\n",
      "         [ 14,  16,  21],\n",
      "         ...,\n",
      "         [ 18,  21,  30],\n",
      "         [ 19,  22,  32],\n",
      "         [ 18,  22,  31]]],\n",
      "\n",
      "\n",
      "       [[[ 47,  58,  73],\n",
      "         [ 49,  53,  67],\n",
      "         [ 59,  57,  63],\n",
      "         ...,\n",
      "         [ 39,  36,  44],\n",
      "         [ 12,  10,  12],\n",
      "         [ 10,   9,  12]],\n",
      "\n",
      "        [[ 61,  68,  84],\n",
      "         [ 61,  58,  72],\n",
      "         [ 60,  57,  67],\n",
      "         ...,\n",
      "         [ 26,  23,  31],\n",
      "         [ 12,  10,   8],\n",
      "         [ 11,   9,  11]],\n",
      "\n",
      "        [[ 66,  75,  93],\n",
      "         [ 72,  79,  99],\n",
      "         [ 67,  73,  94],\n",
      "         ...,\n",
      "         [ 36,  36,  38],\n",
      "         [ 25,  21,  14],\n",
      "         [ 13,   9,  10]],\n",
      "\n",
      "        ...,\n",
      "\n",
      "        [[ 16,  16,  19],\n",
      "         [ 15,  15,  18],\n",
      "         [ 14,  13,  17],\n",
      "         ...,\n",
      "         [ 32,  31,  37],\n",
      "         [ 36,  37,  44],\n",
      "         [ 24,  24,  23]],\n",
      "\n",
      "        [[ 13,  12,  15],\n",
      "         [ 13,  12,  14],\n",
      "         [ 12,  11,  13],\n",
      "         ...,\n",
      "         [ 26,  28,  33],\n",
      "         [ 32,  35,  39],\n",
      "         [ 28,  27,  24]],\n",
      "\n",
      "        [[ 12,  11,  14],\n",
      "         [ 12,  11,  14],\n",
      "         [ 12,  10,  12],\n",
      "         ...,\n",
      "         [ 28,  32,  40],\n",
      "         [ 36,  37,  40],\n",
      "         [ 29,  27,  22]]],\n",
      "\n",
      "\n",
      "       [[[ 10,  10,  13],\n",
      "         [ 10,  10,  13],\n",
      "         [ 10,   9,  12],\n",
      "         ...,\n",
      "         [ 13,  12,  15],\n",
      "         [ 13,  12,  15],\n",
      "         [ 13,  12,  16]],\n",
      "\n",
      "        [[ 12,  11,  14],\n",
      "         [  9,   9,  12],\n",
      "         [  9,   9,  12],\n",
      "         ...,\n",
      "         [ 13,  12,  14],\n",
      "         [ 13,  12,  15],\n",
      "         [ 13,  12,  16]],\n",
      "\n",
      "        [[ 11,   9,  11],\n",
      "         [  9,   8,  11],\n",
      "         [  9,   9,  12],\n",
      "         ...,\n",
      "         [ 13,  12,  14],\n",
      "         [ 13,  12,  15],\n",
      "         [ 13,  12,  16]],\n",
      "\n",
      "        ...,\n",
      "\n",
      "        [[ 11,   9,  13],\n",
      "         [ 10,   9,  12],\n",
      "         [ 11,  10,  13],\n",
      "         ...,\n",
      "         [ 11,  10,  13],\n",
      "         [ 10,   9,  12],\n",
      "         [ 12,  11,  14]],\n",
      "\n",
      "        [[ 11,  10,  14],\n",
      "         [ 11,  10,  14],\n",
      "         [ 11,  10,  14],\n",
      "         ...,\n",
      "         [  9,   9,  12],\n",
      "         [  9,   9,  11],\n",
      "         [ 12,  11,  13]],\n",
      "\n",
      "        [[ 10,  10,  13],\n",
      "         [ 10,   9,  12],\n",
      "         [ 11,   9,  12],\n",
      "         ...,\n",
      "         [ 10,  10,  13],\n",
      "         [  9,  10,  12],\n",
      "         [ 11,  11,  13]]]], dtype=uint8), 'labels': array([16,  1, 38, ...,  6,  7, 10], dtype=uint8)}\n"
     ]
    }
   ],
   "source": [
    "print(test_data)"
   ]
  },
  {
   "cell_type": "markdown",
   "metadata": {},
   "source": [
    "Como se puede visualizar la data cuenta con varias secciones como lo es sizes, coords, features & labels, la que nos interesa en este laboratorio son las features y las labels, las features son las imágenes yb las labels es la clasificación que tiene la imagen ya sea una imagen con límite de velocidad de 20km/h, límite de velocidad de 30 km/h entre otras\n"
   ]
  },
  {
   "cell_type": "markdown",
   "metadata": {},
   "source": [
    "### Imagenes de entrenamiento, prueba y validación"
   ]
  },
  {
   "cell_type": "code",
   "execution_count": 63,
   "metadata": {},
   "outputs": [],
   "source": [
    "train_images = train_data['features']\n",
    "test_images = test_data['features']\n",
    "valid_images = validation_data['features']\n",
    "\n",
    "labels_train = train_data['labels']\n",
    "labels_test = test_data['labels']\n",
    "labels_validation = validation_data['labels']"
   ]
  },
  {
   "cell_type": "markdown",
   "metadata": {},
   "source": [
    "Cantidad de etiquetas en el dataset"
   ]
  },
  {
   "cell_type": "code",
   "execution_count": 64,
   "metadata": {},
   "outputs": [
    {
     "name": "stdout",
     "output_type": "stream",
     "text": [
      "Número de etiquetas únicas: 43\n",
      "Número de etiquetas únicas: 43\n",
      "Número de etiquetas únicas: 43\n"
     ]
    }
   ],
   "source": [
    "num_unique_labels = len(set(labels_train))\n",
    "print(\"Número de etiquetas únicas:\", num_unique_labels)\n",
    "\n",
    "num_unique_labels2 = len(set(labels_test))\n",
    "print(\"Número de etiquetas únicas:\", num_unique_labels2)\n",
    "\n",
    "num_unique_labels3 = len(set(labels_validation))\n",
    "print(\"Número de etiquetas únicas:\", num_unique_labels3)"
   ]
  },
  {
   "cell_type": "markdown",
   "metadata": {},
   "source": [
    "Forma de los datos"
   ]
  },
  {
   "cell_type": "code",
   "execution_count": 65,
   "metadata": {},
   "outputs": [
    {
     "data": {
      "text/plain": [
       "(34799,)"
      ]
     },
     "execution_count": 65,
     "metadata": {},
     "output_type": "execute_result"
    }
   ],
   "source": [
    "labels_train.shape"
   ]
  },
  {
   "cell_type": "code",
   "execution_count": 66,
   "metadata": {},
   "outputs": [
    {
     "data": {
      "text/plain": [
       "(34799, 32, 32, 3)"
      ]
     },
     "execution_count": 66,
     "metadata": {},
     "output_type": "execute_result"
    }
   ],
   "source": [
    "train_images.shape"
   ]
  },
  {
   "cell_type": "code",
   "execution_count": 67,
   "metadata": {},
   "outputs": [
    {
     "data": {
      "text/plain": [
       "(12630, 32, 32, 3)"
      ]
     },
     "execution_count": 67,
     "metadata": {},
     "output_type": "execute_result"
    }
   ],
   "source": [
    "test_images.shape"
   ]
  },
  {
   "cell_type": "code",
   "execution_count": 68,
   "metadata": {},
   "outputs": [
    {
     "data": {
      "text/plain": [
       "(4410, 32, 32, 3)"
      ]
     },
     "execution_count": 68,
     "metadata": {},
     "output_type": "execute_result"
    }
   ],
   "source": [
    "valid_images.shape"
   ]
  },
  {
   "cell_type": "markdown",
   "metadata": {},
   "source": [
    "Visualización de imagen para corroborar su formato"
   ]
  },
  {
   "cell_type": "code",
   "execution_count": 69,
   "metadata": {},
   "outputs": [
    {
     "data": {
      "text/plain": [
       "<matplotlib.image.AxesImage at 0x17c9337a310>"
      ]
     },
     "execution_count": 69,
     "metadata": {},
     "output_type": "execute_result"
    },
    {
     "data": {
      "image/png": "[encoded data removed]",
      "text/plain": [
       "<Figure size 640x480 with 1 Axes>"
      ]
     },
     "metadata": {},
     "output_type": "display_data"
    }
   ],
   "source": [
    "img_para = train_images[600]\n",
    "plt.imshow(img_para)"
   ]
  },
  {
   "cell_type": "code",
   "execution_count": 70,
   "metadata": {},
   "outputs": [
    {
     "data": {
      "text/plain": [
       "(32, 32, 3)"
      ]
     },
     "execution_count": 70,
     "metadata": {},
     "output_type": "execute_result"
    }
   ],
   "source": [
    "img_para.shape"
   ]
  },
  {
   "cell_type": "markdown",
   "metadata": {},
   "source": [
    "Como se puede visualizar el shape de la imagen es un shape el cual es óptimo para su trabajo de clasificación por lo que no se hará un resize de las imágenes."
   ]
  },
  {
   "cell_type": "code",
   "execution_count": 71,
   "metadata": {},
   "outputs": [],
   "source": [
    "forma_imagen = (32, 32, 3)"
   ]
  },
  {
   "cell_type": "code",
   "execution_count": 72,
   "metadata": {},
   "outputs": [],
   "source": [
    "# Preprocesamiento de datos\n",
    "train_images = np.array(train_images)\n",
    "test_images = np.array(test_images)\n",
    "valid_images = np.array(valid_images)"
   ]
  },
  {
   "cell_type": "markdown",
   "metadata": {},
   "source": [
    "Se convierten las listas a numpy array para su mejor manejo en el procesamiento de datos"
   ]
  },
  {
   "cell_type": "code",
   "execution_count": 73,
   "metadata": {},
   "outputs": [
    {
     "name": "stdout",
     "output_type": "stream",
     "text": [
      "43\n",
      "(34799, 43)\n",
      "(12630, 43)\n",
      "(4410, 43)\n"
     ]
    }
   ],
   "source": [
    "train_images = train_images / 255.0\n",
    "test_images = test_images / 255.0\n",
    "valid_images = valid_images / 255.0\n",
    "\n",
    "# Convertir etiquetas a one-hot encoding\n",
    "num_classes = len(set(labels_train))\n",
    "labels_train = to_categorical(labels_train, num_classes)\n",
    "labels_test = to_categorical(labels_test, num_classes)\n",
    "labels_validation = to_categorical(labels_validation, num_classes)\n",
    "\n",
    "\n",
    "print(num_classes)\n",
    "print(labels_train.shape)\n",
    "print(labels_test.shape)\n",
    "print(labels_validation.shape)"
   ]
  },
  {
   "cell_type": "markdown",
   "metadata": {},
   "source": [
    "El primer paso es normalizar los valores de los pixeles en un rango de [0,1] esto se realiza ya que así los pixeles están en una escala más manejable para el procesamiento de entrenamiento, se puede mencionar que las redes neuronales son sensibles a la escala de los datos y trabajar con valores más pequeños puede ayudar a la estabilidad y convergencia del modelo."
   ]
  },
  {
   "cell_type": "code",
   "execution_count": 79,
   "metadata": {},
   "outputs": [],
   "source": [
    "from tensorflow.keras.models import Sequential\n",
    "from tensorflow.keras.layers import Activation, Dropout, Flatten, Dense, Conv2D, MaxPooling2D"
   ]
  },
  {
   "cell_type": "markdown",
   "metadata": {},
   "source": [
    "### Modelo CNN"
   ]
  },
  {
   "cell_type": "code",
   "execution_count": 97,
   "metadata": {},
   "outputs": [],
   "source": [
    "modelo = Sequential()\n",
    "\n",
    "modelo.add(Conv2D(filters = 32, kernel_size = (3, 3), input_shape = forma_imagen, activation = 'relu',))\n",
    "modelo.add(MaxPooling2D(pool_size = (2, 2)))\n",
    "\n",
    "modelo.add(Conv2D(filters = 64, kernel_size = (3, 3), input_shape = forma_imagen , activation = 'relu',))\n",
    "modelo.add(MaxPooling2D(pool_size = (2, 2)))\n",
    "\n",
    "modelo.add(Conv2D(filters = 64, kernel_size = (3, 3), input_shape = forma_imagen, activation = 'relu',))\n",
    "modelo.add(MaxPooling2D(pool_size = (2, 2)))\n",
    "\n",
    "\n",
    "modelo.add(Flatten())\n",
    "\n",
    "\n",
    "modelo.add(Dense(128))\n",
    "modelo.add(Activation('relu'))\n",
    "\n",
    "# Dropouts ayudan a reducir el sobre ajuste al ir \"apagando\" unidades al azar durante el entrenamiento.\n",
    "# Aquí estamos indicando que al azar apague el 50% de las unidades.\n",
    "modelo.add(Dropout(0.5))\n",
    "\n",
    "\n",
    "modelo.add(Dense(num_classes, activation = 'softmax'))\n",
    "modelo.compile(loss = 'categorical_crossentropy',\n",
    "              optimizer = 'adam',\n",
    "              metrics = ['accuracy'])"
   ]
  },
  {
   "cell_type": "markdown",
   "metadata": {},
   "source": [
    "### Explicación de arquitectura Le-net\n"
   ]
  },
  {
   "cell_type": "markdown",
   "metadata": {},
   "source": [
    "La arquitectura de la red neuronal esta descrita de la siguiente manera:\n",
    "\n",
    "1. Capas Convolucionales (Conv2D): Las capas convolucionales son responsables de extraer características importantes de la imagen de entrada. Cada capa convolucional aplica varios filtros (núcleos) a la imagen de entrada para detectar patrones y características específicas.\n",
    "2. Capas de Pooling (MaxPooling2D): Después de cada capa convolucional, se aplica una capa de pooling para reducir la dimensionalidad y la cantidad de parámetros de la red. El max pooling toma el valor máximo de un área de píxeles y lo reduce a uno solo. Esto ayuda a conservar las características más importantes y reducir el cálculo.\n",
    "3. Capa Flatten: Después de aplicar las capas convolucionales y de pooling, la capa Flatten se utiliza para aplanar la salida en un vector unidimensional. Esto es necesario para conectar las capas completamente conectadas (fully connected) que vienen a continuación.\n",
    "4. Capas Densas (Fully Connected): Las capas densas son responsables de la clasificación final. Estas capas toman las características extraídas por las capas convolucionales y las procesan para producir la salida final. En el modelo implementado se tiene una capa de 128 neuornas y funcion de activacion relu, seguida de una capa dropout para reducir el sobnreajuste.\n",
    "5. Capa de Salida (Densa): La última capa es la capa de salida, que tiene un número de neuronas igual al número de clases que se presentan que en este caso son 43, se puede mencionar que se utiliza un softmax de activacion debido a que se cuentan con varias clases y esta funcion ayuda en diferencias dichas clases."
   ]
  },
  {
   "cell_type": "markdown",
   "metadata": {},
   "source": [
    "### Importancia de la Función de Pérdida y el Optimizador "
   ]
  },
  {
   "cell_type": "markdown",
   "metadata": {},
   "source": [
    "1. Función de Pérdida: La función de pérdida es una medida que indica qué tan bien se están prediciendo las etiquetas reales en comparación con las predicciones de la red. En este caso, se esta utilizando la función de pérdida 'categorical_crossentropy', que es apropiada para problemas de clasificación multiclase. \n",
    "2. Optimizador: El optimizador es el algoritmo que ajusta los pesos de la red en función de la información proporcionada por la función de pérdida. En este modelo, se esta utilizando el optimizador 'adam', que es una versión mejorada del descenso de gradiente estocástico. 'adam' ajusta automáticamente la tasa de aprendizaje a medida que avanza el entrenamiento y realiza actualizaciones más eficientes de los pesos de la red.\n",
    "\n",
    "En conjunto, la función de pérdida y el optimizador trabajan juntos para guiar el proceso de aprendizaje de la red. La red ajusta sus pesos iterativamente en función de cómo se comparan las predicciones con las etiquetas reales, y el optimizador se asegura de que este proceso sea eficiente y efectivo para alcanzar una solución óptima."
   ]
  },
  {
   "cell_type": "markdown",
   "metadata": {},
   "source": [
    "### Resumen del modelo"
   ]
  },
  {
   "cell_type": "code",
   "execution_count": 98,
   "metadata": {},
   "outputs": [
    {
     "name": "stdout",
     "output_type": "stream",
     "text": [
      "Model: \"sequential_4\"\n",
      "_________________________________________________________________\n",
      " Layer (type)                Output Shape              Param #   \n",
      "=================================================================\n",
      " conv2d_12 (Conv2D)          (None, 30, 30, 32)        896       \n",
      "                                                                 \n",
      " max_pooling2d_12 (MaxPoolin  (None, 15, 15, 32)       0         \n",
      " g2D)                                                            \n",
      "                                                                 \n",
      " conv2d_13 (Conv2D)          (None, 13, 13, 64)        18496     \n",
      "                                                                 \n",
      " max_pooling2d_13 (MaxPoolin  (None, 6, 6, 64)         0         \n",
      " g2D)                                                            \n",
      "                                                                 \n",
      " conv2d_14 (Conv2D)          (None, 4, 4, 64)          36928     \n",
      "                                                                 \n",
      " max_pooling2d_14 (MaxPoolin  (None, 2, 2, 64)         0         \n",
      " g2D)                                                            \n",
      "                                                                 \n",
      " flatten_4 (Flatten)         (None, 256)               0         \n",
      "                                                                 \n",
      " dense_8 (Dense)             (None, 128)               32896     \n",
      "                                                                 \n",
      " activation_7 (Activation)   (None, 128)               0         \n",
      "                                                                 \n",
      " dropout_4 (Dropout)         (None, 128)               0         \n",
      "                                                                 \n",
      " dense_9 (Dense)             (None, 43)                5547      \n",
      "                                                                 \n",
      "=================================================================\n",
      "Total params: 94,763\n",
      "Trainable params: 94,763\n",
      "Non-trainable params: 0\n",
      "_________________________________________________________________\n"
     ]
    }
   ],
   "source": [
    "modelo.summary()"
   ]
  },
  {
   "cell_type": "markdown",
   "metadata": {},
   "source": [
    "### Diseño de la red Le-Net"
   ]
  },
  {
   "cell_type": "code",
   "execution_count": 99,
   "metadata": {},
   "outputs": [
    {
     "data": {
      "image/png": "[encoded data removed]",
      "text/plain": [
       "<IPython.core.display.Image object>"
      ]
     },
     "execution_count": 99,
     "metadata": {},
     "output_type": "execute_result"
    }
   ],
   "source": [
    "from tensorflow.keras.utils import plot_model\n",
    "plot_model(modelo, to_file = 'grafica_modelo.png', show_shapes = True, show_layer_names = True)"
   ]
  },
  {
   "cell_type": "markdown",
   "metadata": {},
   "source": [
    "### Proceso de entrenamiento del modelo"
   ]
  },
  {
   "cell_type": "code",
   "execution_count": 100,
   "metadata": {},
   "outputs": [
    {
     "name": "stdout",
     "output_type": "stream",
     "text": [
      "Epoch 1/20\n",
      "348/348 [==============================] - 14s 37ms/step - loss: 2.4539 - accuracy: 0.3280 - val_loss: 1.2588 - val_accuracy: 0.6304\n",
      "Epoch 2/20\n",
      "348/348 [==============================] - 12s 35ms/step - loss: 0.8410 - accuracy: 0.7441 - val_loss: 0.5425 - val_accuracy: 0.8481\n",
      "Epoch 3/20\n",
      "348/348 [==============================] - 12s 36ms/step - loss: 0.4296 - accuracy: 0.8697 - val_loss: 0.4048 - val_accuracy: 0.8830\n",
      "Epoch 4/20\n",
      "348/348 [==============================] - 13s 37ms/step - loss: 0.2802 - accuracy: 0.9165 - val_loss: 0.2904 - val_accuracy: 0.9195\n",
      "Epoch 5/20\n",
      "348/348 [==============================] - 13s 37ms/step - loss: 0.1892 - accuracy: 0.9436 - val_loss: 0.2281 - val_accuracy: 0.9370\n",
      "Epoch 6/20\n",
      "348/348 [==============================] - 13s 37ms/step - loss: 0.1568 - accuracy: 0.9533 - val_loss: 0.2008 - val_accuracy: 0.9488\n",
      "Epoch 7/20\n",
      "348/348 [==============================] - 13s 37ms/step - loss: 0.1214 - accuracy: 0.9646 - val_loss: 0.1715 - val_accuracy: 0.9508\n",
      "Epoch 8/20\n",
      "348/348 [==============================] - 13s 37ms/step - loss: 0.1015 - accuracy: 0.9700 - val_loss: 0.1744 - val_accuracy: 0.9558\n",
      "Epoch 9/20\n",
      "348/348 [==============================] - 13s 36ms/step - loss: 0.0845 - accuracy: 0.9751 - val_loss: 0.1621 - val_accuracy: 0.9580\n",
      "Epoch 10/20\n",
      "348/348 [==============================] - 13s 37ms/step - loss: 0.0752 - accuracy: 0.9769 - val_loss: 0.1996 - val_accuracy: 0.9542\n",
      "Epoch 11/20\n",
      "348/348 [==============================] - 13s 37ms/step - loss: 0.0683 - accuracy: 0.9789 - val_loss: 0.1297 - val_accuracy: 0.9698\n",
      "Epoch 12/20\n",
      "348/348 [==============================] - 13s 37ms/step - loss: 0.0599 - accuracy: 0.9822 - val_loss: 0.1313 - val_accuracy: 0.9628\n",
      "Epoch 13/20\n",
      "348/348 [==============================] - 13s 37ms/step - loss: 0.0522 - accuracy: 0.9840 - val_loss: 0.1425 - val_accuracy: 0.9662\n",
      "Epoch 14/20\n",
      "348/348 [==============================] - 13s 39ms/step - loss: 0.0459 - accuracy: 0.9858 - val_loss: 0.1675 - val_accuracy: 0.9621\n",
      "Epoch 15/20\n",
      "348/348 [==============================] - 13s 37ms/step - loss: 0.0417 - accuracy: 0.9873 - val_loss: 0.1174 - val_accuracy: 0.9723\n",
      "Epoch 16/20\n",
      "348/348 [==============================] - 13s 37ms/step - loss: 0.0387 - accuracy: 0.9884 - val_loss: 0.1527 - val_accuracy: 0.9624\n",
      "Epoch 17/20\n",
      "348/348 [==============================] - 13s 37ms/step - loss: 0.0363 - accuracy: 0.9889 - val_loss: 0.1376 - val_accuracy: 0.9660\n",
      "Epoch 18/20\n",
      "348/348 [==============================] - 13s 37ms/step - loss: 0.0344 - accuracy: 0.9889 - val_loss: 0.1403 - val_accuracy: 0.9710\n",
      "Epoch 19/20\n",
      "348/348 [==============================] - 13s 37ms/step - loss: 0.0307 - accuracy: 0.9902 - val_loss: 0.1039 - val_accuracy: 0.9717\n",
      "Epoch 20/20\n",
      "348/348 [==============================] - 13s 37ms/step - loss: 0.0286 - accuracy: 0.9913 - val_loss: 0.1275 - val_accuracy: 0.9710\n"
     ]
    },
    {
     "data": {
      "text/plain": [
       "<keras.callbacks.History at 0x17c965e2e10>"
      ]
     },
     "execution_count": 100,
     "metadata": {},
     "output_type": "execute_result"
    }
   ],
   "source": [
    "modelo.fit(train_images, labels_train, epochs=20, batch_size=100, validation_data=(valid_images, labels_validation))"
   ]
  },
  {
   "cell_type": "markdown",
   "metadata": {},
   "source": [
    "Durante el proceso de entrenamiento:\n",
    "1. La red toma un lote de imágenes (batch_size) y sus etiquetas (labels_train) del conjunto de entrenamiento.\n",
    "2. Calcula las predicciones para las imágenes del lote utilizando los pesos actuales de la red.\n",
    "3. Calcula el valor de la función de pérdida entre las predicciones y las etiquetas reales.\n",
    "4. Utiliza el optimizador (en este caso, 'adam') para ajustar los pesos de la red para reducir la pérdida.\n",
    "5. Repite estos pasos para cada lote de imágenes en el conjunto de entrenamiento durante las 20 épocas especificadas.\n",
    "\n",
    "Después de cada época, la red evalúa su rendimiento utilizando los datos de validación (valid_images y labels_validation). Esto te dará una idea de cómo está generalizando la red a nuevos datos y si está mejorando a medida que avanza el entrenamient"
   ]
  },
  {
   "cell_type": "markdown",
   "metadata": {},
   "source": [
    "### Evaluacion del modelo"
   ]
  },
  {
   "cell_type": "code",
   "execution_count": 101,
   "metadata": {},
   "outputs": [
    {
     "name": "stdout",
     "output_type": "stream",
     "text": [
      "127/127 [==============================] - 1s 9ms/step - loss: 0.2747 - accuracy: 0.9547\n",
      "Pérdida en el conjunto de prueba: 0.2747\n",
      "Precisión en el conjunto de prueba: 0.9547\n"
     ]
    }
   ],
   "source": [
    "loss, accuracy = modelo.evaluate(test_images, labels_test, batch_size=100)\n",
    "print(f\"Pérdida en el conjunto de prueba: {loss:.4f}\")\n",
    "print(f\"Precisión en el conjunto de prueba: {accuracy:.4f}\")"
   ]
  },
  {
   "cell_type": "code",
   "execution_count": 102,
   "metadata": {},
   "outputs": [
    {
     "name": "stdout",
     "output_type": "stream",
     "text": [
      "395/395 [==============================] - 2s 4ms/step\n"
     ]
    }
   ],
   "source": [
    "predictions = modelo.predict(test_images)\n",
    "predicted_labels = np.argmax(predictions, axis=1)"
   ]
  },
  {
   "cell_type": "code",
   "execution_count": 103,
   "metadata": {},
   "outputs": [
    {
     "name": "stdout",
     "output_type": "stream",
     "text": [
      "Matriz de confusion\n",
      "[[ 58   0   0 ...   0   0   0]\n",
      " [  3 707   2 ...   0   0   0]\n",
      " [  0  10 717 ...   0   0   0]\n",
      " ...\n",
      " [  0   0   0 ...  88   0   0]\n",
      " [  0   0   0 ...   0  54   0]\n",
      " [  0   0   0 ...   0   3  87]]\n"
     ]
    }
   ],
   "source": [
    "# Obtener la matriz de confusión\n",
    "confusion = confusion_matrix(np.argmax(labels_test, axis=1), predicted_labels)\n",
    "print(\"Matriz de confusion\")\n",
    "print(confusion)"
   ]
  },
  {
   "cell_type": "code",
   "execution_count": 104,
   "metadata": {},
   "outputs": [
    {
     "name": "stdout",
     "output_type": "stream",
     "text": [
      "Informe de classificacion\n",
      "              precision    recall  f1-score   support\n",
      "\n",
      "           0       0.94      0.97      0.95        60\n",
      "           1       0.97      0.98      0.98       720\n",
      "           2       0.97      0.96      0.96       750\n",
      "           3       0.87      0.99      0.93       450\n",
      "           4       0.99      0.97      0.98       660\n",
      "           5       0.96      0.93      0.94       630\n",
      "           6       1.00      0.77      0.87       150\n",
      "           7       0.99      0.92      0.95       450\n",
      "           8       0.95      0.98      0.96       450\n",
      "           9       0.97      0.99      0.98       480\n",
      "          10       0.99      0.98      0.99       660\n",
      "          11       0.89      0.98      0.93       420\n",
      "          12       0.98      0.98      0.98       690\n",
      "          13       0.99      1.00      0.99       720\n",
      "          14       1.00      1.00      1.00       270\n",
      "          15       0.89      1.00      0.94       210\n",
      "          16       0.97      0.99      0.98       150\n",
      "          17       1.00      0.97      0.99       360\n",
      "          18       0.93      0.77      0.84       390\n",
      "          19       0.86      1.00      0.92        60\n",
      "          20       0.83      0.92      0.87        90\n",
      "          21       0.77      0.56      0.65        90\n",
      "          22       0.99      0.88      0.93       120\n",
      "          23       0.93      1.00      0.96       150\n",
      "          24       0.94      0.82      0.88        90\n",
      "          25       0.98      0.95      0.96       480\n",
      "          26       0.87      0.98      0.92       180\n",
      "          27       0.49      0.72      0.59        60\n",
      "          28       0.90      0.89      0.90       150\n",
      "          29       0.67      0.99      0.80        90\n",
      "          30       0.91      0.65      0.76       150\n",
      "          31       0.96      0.97      0.97       270\n",
      "          32       0.78      0.98      0.87        60\n",
      "          33       1.00      1.00      1.00       210\n",
      "          34       0.98      0.99      0.99       120\n",
      "          35       0.99      0.99      0.99       390\n",
      "          36       0.96      0.97      0.96       120\n",
      "          37       1.00      0.98      0.99        60\n",
      "          38       1.00      0.99      0.99       690\n",
      "          39       0.97      0.97      0.97        90\n",
      "          40       0.97      0.98      0.97        90\n",
      "          41       0.95      0.90      0.92        60\n",
      "          42       0.92      0.97      0.94        90\n",
      "\n",
      "    accuracy                           0.95     12630\n",
      "   macro avg       0.93      0.93      0.93     12630\n",
      "weighted avg       0.96      0.95      0.95     12630\n",
      "\n"
     ]
    }
   ],
   "source": [
    "classification_rep = classification_report(np.argmax(labels_test, axis=1), predicted_labels)\n",
    "print(\"Informe de classificacion\")\n",
    "print(classification_rep)"
   ]
  }
 ],
 "metadata": {
  "kernelspec": {
   "display_name": "Python 3",
   "language": "python",
   "name": "python3"
  },
  "language_info": {
   "codemirror_mode": {
    "name": "ipython",
    "version": 3
   },
   "file_extension": ".py",
   "mimetype": "text/x-python",
   "name": "python",
   "nbconvert_exporter": "python",
   "pygments_lexer": "ipython3",
   "version": "3.11.1"
  },
  "orig_nbformat": 4
 },
 "nbformat": 4,
 "nbformat_minor": 2
}
