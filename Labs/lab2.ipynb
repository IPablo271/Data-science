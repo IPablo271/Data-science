{
 "cells": [
  {
   "cell_type": "markdown",
   "metadata": {},
   "source": [
    "# Red Neuronal CNN \n",
    "Universidad del Valle de Guatemala\n",
    "Pablo Gonzalez 20362\n",
    "Javier Mombiela 20067"
   ]
  },
  {
   "cell_type": "code",
   "execution_count": 3,
   "metadata": {},
   "outputs": [],
   "source": [
    "import pandas as pd\n",
    "import numpy as np\n",
    "import matplotlib.pyplot as plt\n",
    "import seaborn as sns\n",
    "import pickle as pkl\n",
    "import os\n",
    "from matplotlib.image import imread"
   ]
  },
  {
   "cell_type": "markdown",
   "metadata": {},
   "source": [
    "### Carga de datos"
   ]
  },
  {
   "cell_type": "code",
   "execution_count": 5,
   "metadata": {},
   "outputs": [
    {
     "data": {
      "text/plain": [
       "['entrenamiento.p', 'prueba.p', 'validacion.p']"
      ]
     },
     "execution_count": 5,
     "metadata": {},
     "output_type": "execute_result"
    }
   ],
   "source": [
    "directorio = './data'\n",
    "os.listdir(directorio)"
   ]
  },
  {
   "cell_type": "code",
   "execution_count": 6,
   "metadata": {},
   "outputs": [],
   "source": [
    "ruta_entrenamiento = directorio + '/entrenamiento.p'\n",
    "ruta_test = directorio + '/prueba.p'\n",
    "ruta_validacion = directorio + '/validacion.p'"
   ]
  },
  {
   "cell_type": "code",
   "execution_count": 8,
   "metadata": {},
   "outputs": [],
   "source": [
    "test_data = pd.read_pickle(ruta_test)\n",
    "validation_data = pd.read_pickle(ruta_validacion)\n",
    "train_data = pd.read_pickle(ruta_entrenamiento)"
   ]
  },
  {
   "cell_type": "code",
   "execution_count": 13,
   "metadata": {},
   "outputs": [
    {
     "name": "stdout",
     "output_type": "stream",
     "text": [
      "{'sizes': array([[53, 54],\n",
      "       [42, 45],\n",
      "       [48, 52],\n",
      "       ...,\n",
      "       [29, 29],\n",
      "       [48, 49],\n",
      "       [32, 31]], dtype=uint8), 'coords': array([[ 6,  5, 48, 49],\n",
      "       [ 5,  5, 36, 40],\n",
      "       [ 6,  6, 43, 47],\n",
      "       ...,\n",
      "       [ 6,  6, 24, 24],\n",
      "       [ 5,  6, 43, 44],\n",
      "       [ 6,  5, 27, 26]], dtype=uint8), 'features': array([[[[116, 139, 174],\n",
      "         [116, 137, 171],\n",
      "         [118, 138, 172],\n",
      "         ...,\n",
      "         [ 98, 114, 143],\n",
      "         [ 97, 121, 147],\n",
      "         [ 85, 105, 130]],\n",
      "\n",
      "        [[115, 142, 176],\n",
      "         [115, 140, 174],\n",
      "         [117, 141, 175],\n",
      "         ...,\n",
      "         [119, 143, 176],\n",
      "         [120, 141, 173],\n",
      "         [120, 139, 171]],\n",
      "\n",
      "        [[117, 141, 174],\n",
      "         [117, 142, 175],\n",
      "         [114, 140, 172],\n",
      "         ...,\n",
      "         [120, 144, 179],\n",
      "         [122, 144, 179],\n",
      "         [120, 143, 177]],\n",
      "\n",
      "        ...,\n",
      "\n",
      "        [[117, 137, 167],\n",
      "         [115, 134, 164],\n",
      "         [117, 135, 164],\n",
      "         ...,\n",
      "         [115, 137, 169],\n",
      "         [116, 136, 168],\n",
      "         [118, 139, 172]],\n",
      "\n",
      "        [[116, 136, 166],\n",
      "         [114, 134, 168],\n",
      "         [113, 131, 166],\n",
      "         ...,\n",
      "         [113, 135, 167],\n",
      "         [117, 136, 165],\n",
      "         [115, 139, 167]],\n",
      "\n",
      "        [[112, 135, 167],\n",
      "         [110, 134, 165],\n",
      "         [119, 135, 165],\n",
      "         ...,\n",
      "         [115, 138, 167],\n",
      "         [117, 138, 167],\n",
      "         [114, 140, 170]]],\n",
      "\n",
      "\n",
      "       [[[ 59,  70,  61],\n",
      "         [ 87,  80,  63],\n",
      "         [ 92,  81,  63],\n",
      "         ...,\n",
      "         [ 77,  64,  67],\n",
      "         [ 71,  65,  67],\n",
      "         [ 74,  69,  68]],\n",
      "\n",
      "        [[ 59,  68,  58],\n",
      "         [ 94,  83,  65],\n",
      "         [ 95,  80,  62],\n",
      "         ...,\n",
      "         [ 77,  64,  66],\n",
      "         [ 92,  69,  70],\n",
      "         [ 85,  68,  68]],\n",
      "\n",
      "        [[ 56,  68,  58],\n",
      "         [ 90,  84,  67],\n",
      "         [ 95,  82,  64],\n",
      "         ...,\n",
      "         [ 72,  65,  66],\n",
      "         [ 80,  67,  69],\n",
      "         [ 79,  69,  70]],\n",
      "\n",
      "        ...,\n",
      "\n",
      "        [[ 48,  47,  43],\n",
      "         [ 79,  68,  57],\n",
      "         [ 80,  66,  56],\n",
      "         ...,\n",
      "         [ 68,  63,  63],\n",
      "         [ 78,  65,  65],\n",
      "         [ 76,  66,  68]],\n",
      "\n",
      "        [[ 49,  46,  45],\n",
      "         [ 78,  66,  61],\n",
      "         [ 78,  65,  58],\n",
      "         ...,\n",
      "         [ 60,  60,  61],\n",
      "         [ 68,  65,  65],\n",
      "         [ 73,  67,  67]],\n",
      "\n",
      "        [[ 51,  45,  45],\n",
      "         [ 78,  66,  61],\n",
      "         [ 79,  66,  58],\n",
      "         ...,\n",
      "         [ 62,  59,  62],\n",
      "         [ 73,  67,  70],\n",
      "         [ 75,  70,  70]]],\n",
      "\n",
      "\n",
      "       [[[ 52,  40,  38],\n",
      "         [ 51,  39,  37],\n",
      "         [ 50,  38,  37],\n",
      "         ...,\n",
      "         [ 53,  44,  46],\n",
      "         [ 54,  45,  48],\n",
      "         [ 55,  45,  48]],\n",
      "\n",
      "        [[ 59,  45,  42],\n",
      "         [ 59,  44,  41],\n",
      "         [ 56,  44,  40],\n",
      "         ...,\n",
      "         [ 52,  41,  42],\n",
      "         [ 54,  44,  45],\n",
      "         [ 55,  46,  45]],\n",
      "\n",
      "        [[ 67,  49,  44],\n",
      "         [ 65,  50,  45],\n",
      "         [ 65,  49,  45],\n",
      "         ...,\n",
      "         [ 57,  42,  39],\n",
      "         [ 55,  42,  40],\n",
      "         [ 56,  43,  40]],\n",
      "\n",
      "        ...,\n",
      "\n",
      "        [[ 28,  24,  26],\n",
      "         [ 29,  25,  27],\n",
      "         [ 29,  27,  30],\n",
      "         ...,\n",
      "         [ 27,  24,  24],\n",
      "         [ 28,  25,  24],\n",
      "         [ 29,  27,  27]],\n",
      "\n",
      "        [[ 31,  28,  29],\n",
      "         [ 37,  32,  34],\n",
      "         [ 41,  35,  37],\n",
      "         ...,\n",
      "         [ 34,  31,  28],\n",
      "         [ 42,  40,  38],\n",
      "         [ 47,  45,  45]],\n",
      "\n",
      "        [[ 32,  29,  30],\n",
      "         [ 33,  28,  28],\n",
      "         [ 44,  34,  32],\n",
      "         ...,\n",
      "         [ 41,  40,  38],\n",
      "         [ 44,  43,  43],\n",
      "         [ 47,  46,  44]]],\n",
      "\n",
      "\n",
      "       ...,\n",
      "\n",
      "\n",
      "       [[[ 24,  27,  34],\n",
      "         [ 23,  25,  32],\n",
      "         [ 24,  25,  32],\n",
      "         ...,\n",
      "         [ 26,  27,  33],\n",
      "         [ 26,  27,  34],\n",
      "         [ 26,  27,  34]],\n",
      "\n",
      "        [[ 25,  26,  33],\n",
      "         [ 25,  26,  34],\n",
      "         [ 25,  26,  33],\n",
      "         ...,\n",
      "         [ 26,  27,  34],\n",
      "         [ 27,  27,  35],\n",
      "         [ 28,  28,  36]],\n",
      "\n",
      "        [[ 26,  26,  32],\n",
      "         [ 25,  25,  32],\n",
      "         [ 25,  25,  31],\n",
      "         ...,\n",
      "         [ 26,  27,  33],\n",
      "         [ 27,  27,  33],\n",
      "         [ 27,  26,  34]],\n",
      "\n",
      "        ...,\n",
      "\n",
      "        [[ 16,  17,  21],\n",
      "         [ 15,  16,  21],\n",
      "         [ 14,  16,  21],\n",
      "         ...,\n",
      "         [ 19,  21,  30],\n",
      "         [ 20,  22,  32],\n",
      "         [ 19,  21,  30]],\n",
      "\n",
      "        [[ 16,  17,  22],\n",
      "         [ 15,  16,  21],\n",
      "         [ 14,  16,  21],\n",
      "         ...,\n",
      "         [ 19,  21,  30],\n",
      "         [ 20,  22,  32],\n",
      "         [ 19,  22,  32]],\n",
      "\n",
      "        [[ 15,  16,  21],\n",
      "         [ 15,  16,  21],\n",
      "         [ 14,  16,  21],\n",
      "         ...,\n",
      "         [ 18,  21,  30],\n",
      "         [ 19,  22,  32],\n",
      "         [ 18,  22,  31]]],\n",
      "\n",
      "\n",
      "       [[[ 47,  58,  73],\n",
      "         [ 49,  53,  67],\n",
      "         [ 59,  57,  63],\n",
      "         ...,\n",
      "         [ 39,  36,  44],\n",
      "         [ 12,  10,  12],\n",
      "         [ 10,   9,  12]],\n",
      "\n",
      "        [[ 61,  68,  84],\n",
      "         [ 61,  58,  72],\n",
      "         [ 60,  57,  67],\n",
      "         ...,\n",
      "         [ 26,  23,  31],\n",
      "         [ 12,  10,   8],\n",
      "         [ 11,   9,  11]],\n",
      "\n",
      "        [[ 66,  75,  93],\n",
      "         [ 72,  79,  99],\n",
      "         [ 67,  73,  94],\n",
      "         ...,\n",
      "         [ 36,  36,  38],\n",
      "         [ 25,  21,  14],\n",
      "         [ 13,   9,  10]],\n",
      "\n",
      "        ...,\n",
      "\n",
      "        [[ 16,  16,  19],\n",
      "         [ 15,  15,  18],\n",
      "         [ 14,  13,  17],\n",
      "         ...,\n",
      "         [ 32,  31,  37],\n",
      "         [ 36,  37,  44],\n",
      "         [ 24,  24,  23]],\n",
      "\n",
      "        [[ 13,  12,  15],\n",
      "         [ 13,  12,  14],\n",
      "         [ 12,  11,  13],\n",
      "         ...,\n",
      "         [ 26,  28,  33],\n",
      "         [ 32,  35,  39],\n",
      "         [ 28,  27,  24]],\n",
      "\n",
      "        [[ 12,  11,  14],\n",
      "         [ 12,  11,  14],\n",
      "         [ 12,  10,  12],\n",
      "         ...,\n",
      "         [ 28,  32,  40],\n",
      "         [ 36,  37,  40],\n",
      "         [ 29,  27,  22]]],\n",
      "\n",
      "\n",
      "       [[[ 10,  10,  13],\n",
      "         [ 10,  10,  13],\n",
      "         [ 10,   9,  12],\n",
      "         ...,\n",
      "         [ 13,  12,  15],\n",
      "         [ 13,  12,  15],\n",
      "         [ 13,  12,  16]],\n",
      "\n",
      "        [[ 12,  11,  14],\n",
      "         [  9,   9,  12],\n",
      "         [  9,   9,  12],\n",
      "         ...,\n",
      "         [ 13,  12,  14],\n",
      "         [ 13,  12,  15],\n",
      "         [ 13,  12,  16]],\n",
      "\n",
      "        [[ 11,   9,  11],\n",
      "         [  9,   8,  11],\n",
      "         [  9,   9,  12],\n",
      "         ...,\n",
      "         [ 13,  12,  14],\n",
      "         [ 13,  12,  15],\n",
      "         [ 13,  12,  16]],\n",
      "\n",
      "        ...,\n",
      "\n",
      "        [[ 11,   9,  13],\n",
      "         [ 10,   9,  12],\n",
      "         [ 11,  10,  13],\n",
      "         ...,\n",
      "         [ 11,  10,  13],\n",
      "         [ 10,   9,  12],\n",
      "         [ 12,  11,  14]],\n",
      "\n",
      "        [[ 11,  10,  14],\n",
      "         [ 11,  10,  14],\n",
      "         [ 11,  10,  14],\n",
      "         ...,\n",
      "         [  9,   9,  12],\n",
      "         [  9,   9,  11],\n",
      "         [ 12,  11,  13]],\n",
      "\n",
      "        [[ 10,  10,  13],\n",
      "         [ 10,   9,  12],\n",
      "         [ 11,   9,  12],\n",
      "         ...,\n",
      "         [ 10,  10,  13],\n",
      "         [  9,  10,  12],\n",
      "         [ 11,  11,  13]]]], dtype=uint8), 'labels': array([16,  1, 38, ...,  6,  7, 10], dtype=uint8)}\n"
     ]
    }
   ],
   "source": [
    "print(test_data)"
   ]
  },
  {
   "cell_type": "markdown",
   "metadata": {},
   "source": [
    "### Imagenes de entrenamiento"
   ]
  },
  {
   "cell_type": "code",
   "execution_count": 31,
   "metadata": {},
   "outputs": [],
   "source": [
    "train_images = train_data['features']\n",
    "test_images = test_data['features']\n",
    "valid_images = validation_data['features']\n",
    "\n",
    "labels = train_data['labels']\n",
    "labels2 = test_data['labels']\n",
    "labels3 = validation_data['labels']"
   ]
  },
  {
   "cell_type": "markdown",
   "metadata": {},
   "source": [
    "Cantidad de etiquetas en el dataset"
   ]
  },
  {
   "cell_type": "code",
   "execution_count": 32,
   "metadata": {},
   "outputs": [
    {
     "name": "stdout",
     "output_type": "stream",
     "text": [
      "Número de etiquetas únicas: 43\n",
      "Número de etiquetas únicas: 43\n",
      "Número de etiquetas únicas: 43\n"
     ]
    }
   ],
   "source": [
    "\n",
    "num_unique_labels = len(set(labels))\n",
    "print(\"Número de etiquetas únicas:\", num_unique_labels)\n",
    "\n",
    "num_unique_labels2 = len(set(labels2))\n",
    "print(\"Número de etiquetas únicas:\", num_unique_labels2)\n",
    "\n",
    "num_unique_labels3 = len(set(labels3))\n",
    "print(\"Número de etiquetas únicas:\", num_unique_labels3)"
   ]
  },
  {
   "cell_type": "markdown",
   "metadata": {},
   "source": [
    "Forma de los datos"
   ]
  },
  {
   "cell_type": "code",
   "execution_count": 17,
   "metadata": {},
   "outputs": [
    {
     "data": {
      "text/plain": [
       "(34799,)"
      ]
     },
     "execution_count": 17,
     "metadata": {},
     "output_type": "execute_result"
    }
   ],
   "source": [
    "labels.shape"
   ]
  },
  {
   "cell_type": "code",
   "execution_count": 18,
   "metadata": {},
   "outputs": [
    {
     "data": {
      "text/plain": [
       "(34799, 32, 32, 3)"
      ]
     },
     "execution_count": 18,
     "metadata": {},
     "output_type": "execute_result"
    }
   ],
   "source": [
    "train_images.shape"
   ]
  },
  {
   "cell_type": "code",
   "execution_count": 26,
   "metadata": {},
   "outputs": [
    {
     "data": {
      "text/plain": [
       "(12630, 32, 32, 3)"
      ]
     },
     "execution_count": 26,
     "metadata": {},
     "output_type": "execute_result"
    }
   ],
   "source": [
    "test_images.shape"
   ]
  },
  {
   "cell_type": "code",
   "execution_count": 29,
   "metadata": {},
   "outputs": [
    {
     "data": {
      "text/plain": [
       "(4410, 32, 32, 3)"
      ]
     },
     "execution_count": 29,
     "metadata": {},
     "output_type": "execute_result"
    }
   ],
   "source": [
    "valid_images.shape"
   ]
  },
  {
   "cell_type": "code",
   "execution_count": 22,
   "metadata": {},
   "outputs": [
    {
     "data": {
      "text/plain": [
       "<matplotlib.image.AxesImage at 0x1c0dc841850>"
      ]
     },
     "execution_count": 22,
     "metadata": {},
     "output_type": "execute_result"
    },
    {
     "data": {
      "image/png": "[encoded data removed]",
      "text/plain": [
       "<Figure size 640x480 with 1 Axes>"
      ]
     },
     "metadata": {},
     "output_type": "display_data"
    }
   ],
   "source": [
    "img_para = train_images[600]\n",
    "plt.imshow(img_para)"
   ]
  },
  {
   "cell_type": "code",
   "execution_count": null,
   "metadata": {},
   "outputs": [],
   "source": [
    "modelo = Sequential()\n",
    "\n",
    "modelo.add(Conv2D(filters = 32, kernel_size = (3, 3), input_shape = forma_imagen, activation = 'relu',))\n",
    "modelo.add(MaxPooling2D(pool_size = (2, 2)))\n",
    "\n",
    "modelo.add(Conv2D(filters = 64, kernel_size = (3, 3), input_shape = forma_imagen, activation = 'relu',))\n",
    "modelo.add(MaxPooling2D(pool_size = (2, 2)))\n",
    "\n",
    "modelo.add(Conv2D(filters = 64, kernel_size = (3, 3), input_shape = forma_imagen, activation = 'relu',))\n",
    "modelo.add(MaxPooling2D(pool_size = (2, 2)))\n",
    "\n",
    "\n",
    "modelo.add(Flatten())\n",
    "\n",
    "\n",
    "modelo.add(Dense(128))\n",
    "modelo.add(Activation('relu'))\n",
    "\n",
    "# Dropouts ayudan a reducir el sobre ajuste al ir \"apagando\" unidades al azar durante el entrenamiento.\n",
    "# Aquí estamos indicando que al azar apague el 50% de las unidades.\n",
    "modelo.add(Dropout(0.5))\n",
    "\n",
    "# La última capa, recordamos que es binaria por lo que selecionamos sigmoid\n",
    "modelo.add(Dense(1))\n",
    "modelo.add(Activation('sigmoid'))\n",
    "\n",
    "modelo.compile(loss = 'binary_crossentropy',\n",
    "              optimizer = 'adam',\n",
    "              metrics = ['accuracy'])"
   ]
  }
 ],
 "metadata": {
  "kernelspec": {
   "display_name": "Python 3",
   "language": "python",
   "name": "python3"
  },
  "language_info": {
   "codemirror_mode": {
    "name": "ipython",
    "version": 3
   },
   "file_extension": ".py",
   "mimetype": "text/x-python",
   "name": "python",
   "nbconvert_exporter": "python",
   "pygments_lexer": "ipython3",
   "version": "3.11.1"
  },
  "orig_nbformat": 4
 },
 "nbformat": 4,
 "nbformat_minor": 2
}
